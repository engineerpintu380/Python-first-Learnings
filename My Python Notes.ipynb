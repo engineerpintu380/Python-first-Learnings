{
 "cells": [
  {
   "cell_type": "code",
   "execution_count": 1,
   "id": "42c3ee8a",
   "metadata": {},
   "outputs": [
    {
     "data": {
      "text/plain": [
       "'My age is 27 and i completed degree of BT with the name of Pintu Yadav'"
      ]
     },
     "execution_count": 1,
     "metadata": {},
     "output_type": "execute_result"
    }
   ],
   "source": [
    "name=\"Pintu Yadav\"\n",
    "age=27\n",
    "degree=\"BT\"\n",
    "\"My age is 27 and i completed degree of BT with the name of Pintu Yadav\""
   ]
  },
  {
   "cell_type": "code",
   "execution_count": 2,
   "id": "340aa760",
   "metadata": {},
   "outputs": [
    {
     "name": "stdout",
     "output_type": "stream",
     "text": [
      "My age is 27 and i completed degree of BT with the name of Pintu Yadav\n"
     ]
    }
   ],
   "source": [
    "print(f\"My age is {age} and i completed degree of {degree} with the name of {name}\")"
   ]
  },
  {
   "cell_type": "code",
   "execution_count": 3,
   "id": "c493501b",
   "metadata": {},
   "outputs": [
    {
     "name": "stdout",
     "output_type": "stream",
     "text": [
      "you are eligible to vote\n"
     ]
    }
   ],
   "source": [
    "## If Statement\n",
    "age=18\n",
    "if age>=18:\n",
    "    print(\"you are eligible to vote\")"
   ]
  },
  {
   "cell_type": "code",
   "execution_count": 4,
   "id": "d93506a7",
   "metadata": {},
   "outputs": [
    {
     "name": "stdout",
     "output_type": "stream",
     "text": [
      "you are not eligible to vote\n"
     ]
    }
   ],
   "source": [
    "## If Statement\n",
    "age=18\n",
    "if age<=18:\n",
    "    print(\"you are not eligible to vote\")"
   ]
  },
  {
   "cell_type": "code",
   "execution_count": 5,
   "id": "a1b0605c",
   "metadata": {},
   "outputs": [
    {
     "data": {
      "text/plain": [
       "True"
      ]
     },
     "execution_count": 5,
     "metadata": {},
     "output_type": "execute_result"
    }
   ],
   "source": [
    "18<=18"
   ]
  },
  {
   "cell_type": "code",
   "execution_count": 6,
   "id": "cf784a02",
   "metadata": {},
   "outputs": [
    {
     "data": {
      "text/plain": [
       "True"
      ]
     },
     "execution_count": 6,
     "metadata": {},
     "output_type": "execute_result"
    }
   ],
   "source": [
    "18>17"
   ]
  },
  {
   "cell_type": "code",
   "execution_count": null,
   "id": "cb690017",
   "metadata": {},
   "outputs": [],
   "source": [
    "name=input(\"Entre the name\")"
   ]
  },
  {
   "cell_type": "code",
   "execution_count": null,
   "id": "b4f20d7a",
   "metadata": {},
   "outputs": [],
   "source": [
    "name"
   ]
  },
  {
   "cell_type": "code",
   "execution_count": null,
   "id": "358d3c7d",
   "metadata": {},
   "outputs": [],
   "source": [
    "age=int(input(\"Enter your age\"))\n",
    "if age>=18 and age<=40:\n",
    "    print(\"You are young blood\")"
   ]
  },
  {
   "cell_type": "code",
   "execution_count": null,
   "id": "031ecaee",
   "metadata": {},
   "outputs": [],
   "source": [
    "## Else statement\n",
    "age=int(input(\"Enter your age\"))\n",
    "if age>=18 and age<=40:\n",
    "    print(\"You are young blood\")\n",
    "else:\n",
    "    print(\"Thank you your application is rejected\")\n"
   ]
  },
  {
   "cell_type": "code",
   "execution_count": 11,
   "id": "6cabe640",
   "metadata": {},
   "outputs": [
    {
     "name": "stdout",
     "output_type": "stream",
     "text": [
      "Enter the price2000\n",
      "the price of the product is1600.0\n"
     ]
    }
   ],
   "source": [
    "product_price=int(input(\"Enter the price\"))\n",
    "if product_price>1000:\n",
    "    print(\"the price of the product is{}\".format(product_price*0.8))\n",
    "else:\n",
    "    print(\"The price of the product is\".formet(product_price*0.7))\n",
    "    "
   ]
  },
  {
   "cell_type": "code",
   "execution_count": 26,
   "id": "df91f3e4",
   "metadata": {},
   "outputs": [
    {
     "name": "stdout",
     "output_type": "stream",
     "text": [
      "Enter the price4000\n",
      "You got Goa Trip\n",
      "the price of the product is3200.0\n"
     ]
    }
   ],
   "source": [
    "product_price=int(input(\"Enter the price\"))\n",
    "if product_price>3000:\n",
    "    if product_price==4000:\n",
    "        print(\"You got Goa Trip\")\n",
    "    print(f\"the price of the product is{product_price*0.8}\")\n",
    "elif product_price>=2000 and product_price<=3000:\n",
    "    if product_pricect==2999:\n",
    "          print(\"congratulation you get an additional gift\")\n",
    "    print(f\"the price of the product is{product_price*0.7}\")\n",
    "elif product_price>=100 and product_price<2000:\n",
    "    print(f\"the price of the product is{product_price*0.6}\")\n",
    "else:\n",
    "        print(\"Let's drink tea\")"
   ]
  },
  {
   "cell_type": "code",
   "execution_count": 31,
   "id": "f4b64836",
   "metadata": {},
   "outputs": [
    {
     "name": "stdout",
     "output_type": "stream",
     "text": [
      "Entre the number1000\n",
      "Go to Home\n"
     ]
    }
   ],
   "source": [
    "## Single Statement Suites\n",
    "val=int(input(\"Entre the number\"))\n",
    "if (val<=999):print(\"value is less than equal to 999\")\n",
    "else:\n",
    "        print(\"Go to Home\")"
   ]
  },
  {
   "cell_type": "code",
   "execution_count": null,
   "id": "6e129ec6",
   "metadata": {},
   "outputs": [],
   "source": []
  },
  {
   "cell_type": "code",
   "execution_count": null,
   "id": "c3bc2dbe",
   "metadata": {},
   "outputs": [],
   "source": []
  },
  {
   "cell_type": "code",
   "execution_count": null,
   "id": "5a1d926f",
   "metadata": {},
   "outputs": [],
   "source": []
  },
  {
   "cell_type": "code",
   "execution_count": null,
   "id": "379dda1c",
   "metadata": {},
   "outputs": [],
   "source": []
  },
  {
   "cell_type": "code",
   "execution_count": null,
   "id": "71fd39f1",
   "metadata": {},
   "outputs": [],
   "source": []
  }
 ],
 "metadata": {
  "kernelspec": {
   "display_name": "Python 3 (ipykernel)",
   "language": "python",
   "name": "python3"
  },
  "language_info": {
   "codemirror_mode": {
    "name": "ipython",
    "version": 3
   },
   "file_extension": ".py",
   "mimetype": "text/x-python",
   "name": "python",
   "nbconvert_exporter": "python",
   "pygments_lexer": "ipython3",
   "version": "3.9.13"
  }
 },
 "nbformat": 4,
 "nbformat_minor": 5
}
